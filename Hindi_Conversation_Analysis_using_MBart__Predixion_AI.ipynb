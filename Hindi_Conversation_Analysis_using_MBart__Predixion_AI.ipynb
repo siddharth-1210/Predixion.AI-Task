{
  "nbformat": 4,
  "nbformat_minor": 0,
  "metadata": {
    "colab": {
      "provenance": []
    },
    "kernelspec": {
      "name": "python3",
      "display_name": "Python 3"
    },
    "language_info": {
      "name": "python"
    }
  },
  "cells": [
    {
      "cell_type": "markdown",
      "source": [
        "**Hindi Conversation Analysis Summarization & Translation and Sentiment Analysis Using MBart Pre-trained Transformer Model**\n",
        "\n",
        "\n",
        "Name : Siddharth Sonkavade\n",
        "\n"
      ],
      "metadata": {
        "id": "UH4gPphYDmGh"
      }
    },
    {
      "cell_type": "markdown",
      "source": [
        "**Step : 1 - Importing Libraries**"
      ],
      "metadata": {
        "id": "gm9vbhuhD_U1"
      }
    },
    {
      "cell_type": "code",
      "source": [
        "from transformers import MBartForConditionalGeneration, MBart50TokenizerFast, BartForConditionalGeneration, BartTokenizer"
      ],
      "metadata": {
        "id": "oF3z16Uc9fUz"
      },
      "execution_count": null,
      "outputs": []
    },
    {
      "cell_type": "markdown",
      "source": [
        "**Step : 2 - Load the pre-trained translation model and tokenizer**\n"
      ],
      "metadata": {
        "id": "lOGFUUhtEAXR"
      }
    },
    {
      "cell_type": "code",
      "source": [
        "translation_model_name = \"facebook/mbart-large-50-many-to-many-mmt\"\n",
        "translation_model = MBartForConditionalGeneration.from_pretrained(translation_model_name)\n",
        "translation_tokenizer = MBart50TokenizerFast.from_pretrained(translation_model_name)\n"
      ],
      "metadata": {
        "colab": {
          "base_uri": "https://localhost:8080/"
        },
        "id": "r4fbKbN79g1U",
        "outputId": "d9be6dc9-73ec-425b-f11e-910d8658fcc0"
      },
      "execution_count": null,
      "outputs": [
        {
          "output_type": "stream",
          "name": "stderr",
          "text": [
            "/usr/local/lib/python3.10/dist-packages/huggingface_hub/utils/_token.py:89: UserWarning: \n",
            "The secret `HF_TOKEN` does not exist in your Colab secrets.\n",
            "To authenticate with the Hugging Face Hub, create a token in your settings tab (https://huggingface.co/settings/tokens), set it as secret in your Google Colab and restart your session.\n",
            "You will be able to reuse this secret in all of your notebooks.\n",
            "Please note that authentication is recommended but still optional to access public models or datasets.\n",
            "  warnings.warn(\n"
          ]
        }
      ]
    },
    {
      "cell_type": "markdown",
      "source": [
        "**Step : 3 - Load the pre-trained summarization model and tokenizer**"
      ],
      "metadata": {
        "id": "6w0z5nj5EKet"
      }
    },
    {
      "cell_type": "code",
      "source": [
        "summarization_model_name = \"facebook/bart-large-cnn\"\n",
        "summarization_model = BartForConditionalGeneration.from_pretrained(summarization_model_name)\n",
        "summarization_tokenizer = BartTokenizer.from_pretrained(summarization_model_name)\n"
      ],
      "metadata": {
        "id": "kBbhfKAj-u7v"
      },
      "execution_count": null,
      "outputs": []
    },
    {
      "cell_type": "markdown",
      "source": [
        "**Step : 4 - Set the source and target language for translation**"
      ],
      "metadata": {
        "id": "XrsJr83sESG7"
      }
    },
    {
      "cell_type": "code",
      "source": [
        "translation_tokenizer.src_lang = \"hi_IN\"\n",
        "target_lang = \"en_XX\"\n"
      ],
      "metadata": {
        "id": "l4bmr_Q9-zyQ"
      },
      "execution_count": null,
      "outputs": []
    },
    {
      "cell_type": "markdown",
      "source": [
        "Step : 5 - Text Translation Function Using Transformers"
      ],
      "metadata": {
        "id": "jK11iKu4Esda"
      }
    },
    {
      "cell_type": "code",
      "source": [
        "def translate_text(text):\n",
        "\n",
        "    encoded_text = translation_tokenizer(text, return_tensors=\"pt\")\n",
        "\n",
        "    generated_tokens = translation_model.generate(**encoded_text, forced_bos_token_id=translation_tokenizer.lang_code_to_id[target_lang])\n",
        "\n",
        "    translated_text = translation_tokenizer.batch_decode(generated_tokens, skip_special_tokens=True)[0]\n",
        "    return translated_text\n"
      ],
      "metadata": {
        "id": "seoUbpDM-3NW"
      },
      "execution_count": null,
      "outputs": []
    },
    {
      "cell_type": "markdown",
      "source": [
        "Step : 6 - Text Summarization Function Using Transformers"
      ],
      "metadata": {
        "id": "ctoymncYEv4L"
      }
    },
    {
      "cell_type": "code",
      "source": [
        "def summarize_text(text):\n",
        "\n",
        "    inputs = summarization_tokenizer.encode(\"summarize: \" + text, return_tensors=\"pt\", max_length=1024, truncation=True)\n",
        "\n",
        "    summary_ids = summarization_model.generate(inputs, max_length=150, min_length=40, length_penalty=2.0, num_beams=4, early_stopping=True)\n",
        "\n",
        "    summary = summarization_tokenizer.decode(summary_ids[0], skip_special_tokens=True)\n",
        "    return summary\n"
      ],
      "metadata": {
        "id": "he1L7W9t-4HT"
      },
      "execution_count": null,
      "outputs": []
    },
    {
      "cell_type": "markdown",
      "source": [
        "The Hindi conversation"
      ],
      "metadata": {
        "id": "m5WAiK0PFIb7"
      }
    },
    {
      "cell_type": "code",
      "source": [
        "hindi_conversation = \"\"\"\n",
        "Recovery Agent (RA): नमस्ते श्री कुमार, मैं एक्स वाई जेड फाइनेंस से बोल रहा हूं। आपके लोन के बारे में बात करनी थी।\n",
        "Borrower (B): हां, बोलिए। क्या बात है?\n",
        "RA: सर, आपका पिछले महीने का EMI अभी तक नहीं आया है। क्या कोई समस्या है?\n",
        "B: हां, थोड़ी दिक्कत है। मेरी नौकरी चली गई है और मैं नया काम ढूंढ रहा हूं।\n",
        "RA: ओह, यह तो बुरा हुआ। लेकिन सर, आपको समझना होगा कि लोन का भुगतान समय पर करना बहुत जरूरी है।\n",
        "B: मैं समझता हूं, लेकिन अभी मेरे पास पैसे नहीं हैं। क्या कुछ समय मिल सकता है?\n",
        "RA: हम समझते हैं आपकी स्थिति। क्या आप अगले हफ्ते तक कुछ भुगतान कर सकते हैं?\n",
        "B: मैं कोशिश करूंगा, लेकिन पूरा EMI नहीं दे पाऊंगा। क्या आधा भुगतान चलेगा?\n",
        "RA: ठीक है, आधा भुगतान अगले हफ्ते तक कर दीजिए। बाकी का क्या प्लान है आपका?\n",
        "B: मुझे उम्मीद है कि अगले महीने तक मुझे नया काम मिल जाएगा। तब मैं बाकी बकाया चुका दूंगा।\n",
        "RA: ठीक है। तो हम ऐसा करते हैं - आप अगले हफ्ते तक आधा EMI जमा कर दीजिए, और अगले महीने के 15 तारीख तक बाकी का भुगतान कर दीजिए। क्या यह आपको स्वीकार है?\n",
        "B: हां, यह ठीक रहेगा। मैं इस प्लान का पालन करने की पूरी कोशिश करूंगा।\n",
        "RA: बहुत अच्छा। मैं आपको एक SMS भेज रहा हूं जिसमें भुगतान की डिटेल्स होंगी। कृपया इसका पालन करें और समय पर भुगतान करें।\n",
        "B: ठीक है, धन्यवाद आपके समझने के लिए।\n",
        "RA: आपका स्वागत है। अगर कोई और सवाल हो तो मुझे बताइएगा। अलविदा।\n",
        "B: अलविदा।\n",
        "\"\"\"\n"
      ],
      "metadata": {
        "id": "T2nFC3by-4MV"
      },
      "execution_count": null,
      "outputs": []
    },
    {
      "cell_type": "markdown",
      "source": [
        "Translate the conversation"
      ],
      "metadata": {
        "id": "Z1VKy27-FL9L"
      }
    },
    {
      "cell_type": "code",
      "source": [
        "english_translation = translate_text(hindi_conversation)\n",
        "print(\"Translated Conversation:\\n\", english_translation)\n"
      ],
      "metadata": {
        "colab": {
          "base_uri": "https://localhost:8080/"
        },
        "id": "7lEo-8qH-9dE",
        "outputId": "c95648b9-a9d7-43c9-df77-86a3342e85f4"
      },
      "execution_count": null,
      "outputs": [
        {
          "output_type": "stream",
          "name": "stdout",
          "text": [
            "Translated Conversation:\n",
            " Recovery Agent (RA): Hello, Mr. Kumar, I'm talking to X Y Z Finance. We had to talk about your loan. Borrower (B): Yes, talk. What's the matter? RA: Sir, your last month EMI hasn' t come yet. Is there a problem? B: Yes, it's a little late. My job has left and I' m looking for a new job. RA: Oh, that's bad. But sir, you have to understand that it' s very important to pay the loan on time. B: I understand, but I don 't have the money yet. Can I get some time? RA: We understand your situation. Can you make some payments by next week? B: I' ll try, but I won 't be able to pay the full EMI. Can half the payment go? RA: Okay, make half the payments by next\n"
          ]
        }
      ]
    },
    {
      "cell_type": "markdown",
      "source": [
        "Summarize the translated conversation"
      ],
      "metadata": {
        "id": "wMMGz6QuFTom"
      }
    },
    {
      "cell_type": "code",
      "source": [
        "conversation_summary = summarize_text(english_translation)\n",
        "print(\"\\nSummarized Conversation:\\n\", conversation_summary)\n"
      ],
      "metadata": {
        "colab": {
          "base_uri": "https://localhost:8080/"
        },
        "id": "mtHQ2dlq-9gV",
        "outputId": "0b498229-5a62-4330-97ad-a8486a978e93"
      },
      "execution_count": null,
      "outputs": [
        {
          "output_type": "stream",
          "name": "stdout",
          "text": [
            "\n",
            "Summarized Conversation:\n",
            " Recovery Agent: Sir, your last month EMI hasn' t come yet. Borrower: Yes, it's a little late. My job has left and I' m looking for a new job.\n"
          ]
        }
      ]
    },
    {
      "cell_type": "markdown",
      "source": [
        "Import Library's Sentiment Analysis Download and Initialization with VADER"
      ],
      "metadata": {
        "id": "DuSAVrqiFf_P"
      }
    },
    {
      "cell_type": "code",
      "source": [
        "import nltk\n",
        "from nltk.sentiment.vader import SentimentIntensityAnalyzer\n",
        "import re\n",
        "\n",
        "nltk.download('vader_lexicon')\n",
        "\n",
        "sid = SentimentIntensityAnalyzer()"
      ],
      "metadata": {
        "colab": {
          "base_uri": "https://localhost:8080/"
        },
        "id": "j5hah_2e_OGZ",
        "outputId": "81921d54-3878-4ea0-cdc4-5a93bc2e15fc"
      },
      "execution_count": null,
      "outputs": [
        {
          "output_type": "stream",
          "name": "stderr",
          "text": [
            "[nltk_data] Downloading package vader_lexicon to /root/nltk_data...\n",
            "[nltk_data]   Package vader_lexicon is already up-to-date!\n"
          ]
        }
      ]
    },
    {
      "cell_type": "markdown",
      "source": [
        "Conversation Splitting Function for Translated Text"
      ],
      "metadata": {
        "id": "_8JsoTojFz8D"
      }
    },
    {
      "cell_type": "code",
      "source": [
        "def split_conversation(english_translation):\n",
        "    ra_text = []\n",
        "    b_text = []\n",
        "\n",
        "    ra_tags = [\"Recovery Agent (RA):\", \"RA:\"]\n",
        "    b_tags = [\"Borrower (B):\", \"B:\"]\n",
        "\n",
        "    parts = english_translation.split()\n",
        "\n",
        "    current_speaker = None\n",
        "    current_sentence = []\n",
        "\n",
        "    for word in parts:\n",
        "        if any(tag in word for tag in ra_tags):\n",
        "            if current_speaker == \"B\":\n",
        "                b_text.append(\" \".join(current_sentence).strip())\n",
        "                current_sentence = []\n",
        "            current_speaker = \"RA\"\n",
        "            current_sentence.append(word.replace(\"Recovery Agent (RA):\", \"\").replace(\"RA:\", \"\").strip())\n",
        "        elif any(tag in word for tag in b_tags):\n",
        "            if current_speaker == \"RA\":\n",
        "                ra_text.append(\" \".join(current_sentence).strip())\n",
        "                current_sentence = []\n",
        "            current_speaker = \"B\"\n",
        "            current_sentence.append(word.replace(\"Borrower (B):\", \"\").replace(\"B:\", \"\").strip())\n",
        "        else:\n",
        "            current_sentence.append(word)\n",
        "\n",
        "    if current_speaker == \"RA\":\n",
        "        ra_text.append(\" \".join(current_sentence).strip())\n",
        "    elif current_speaker == \"B\":\n",
        "        b_text.append(\" \".join(current_sentence).strip())\n",
        "\n",
        "    return \" \".join(ra_text), \" \".join(b_text)\n"
      ],
      "metadata": {
        "id": "VkmR0lsUBDmj"
      },
      "execution_count": null,
      "outputs": []
    },
    {
      "cell_type": "code",
      "source": [
        "ra_text, b_text = split_conversation(english_translation)"
      ],
      "metadata": {
        "id": "ZnDUkQEeKDtl"
      },
      "execution_count": null,
      "outputs": []
    },
    {
      "cell_type": "markdown",
      "source": [
        "Print Separated Recovery Agent and Borrower Texts"
      ],
      "metadata": {
        "id": "FPftoZcnGFO1"
      }
    },
    {
      "cell_type": "code",
      "source": [
        "print(ra_text)\n",
        "print(b_text)"
      ],
      "metadata": {
        "colab": {
          "base_uri": "https://localhost:8080/"
        },
        "id": "WOJrkeaPKlUJ",
        "outputId": "2820a8cf-d592-44cc-9698-5cccd9cf12be"
      },
      "execution_count": null,
      "outputs": [
        {
          "output_type": "stream",
          "name": "stdout",
          "text": [
            "Recovery Agent (RA): Hello, Mr. Kumar, I'm talking to X Y Z Finance. We had to talk about your loan. Borrower (B): Yes, talk. What's the matter?  Sir, your last month EMI hasn' t come yet. Is there a problem? Oh, that's bad. But sir, you have to understand that it' s very important to pay the loan on time. We understand your situation. Can you make some payments by next week? Okay, make half the payments by next\n",
            "Yes, it's a little late. My job has left and I' m looking for a new job. I understand, but I don 't have the money yet. Can I get some time? I' ll try, but I won 't be able to pay the full EMI. Can half the payment go?\n"
          ]
        }
      ]
    },
    {
      "cell_type": "code",
      "source": [
        "def analyze_sentiment(text):\n",
        "    scores = sid.polarity_scores(text)\n",
        "    return scores"
      ],
      "metadata": {
        "id": "1xLy-WYdKP6a"
      },
      "execution_count": null,
      "outputs": []
    },
    {
      "cell_type": "markdown",
      "source": [
        "Analyzing and Printing Sentiment Scores for Conversations"
      ],
      "metadata": {
        "id": "WJz1uzv4GKmD"
      }
    },
    {
      "cell_type": "code",
      "source": [
        "ra_sentiment = analyze_sentiment(ra_text)\n",
        "b_sentiment = analyze_sentiment(b_text)\n",
        "\n",
        "print(\"Recovery Agent Sentiment Scores:\", ra_sentiment)\n",
        "print(\"Borrower Sentiment Scores:\", b_sentiment)"
      ],
      "metadata": {
        "colab": {
          "base_uri": "https://localhost:8080/"
        },
        "id": "_m4RAKceKTHq",
        "outputId": "679c09ba-bd00-4d96-eba1-e2f8c430eb66"
      },
      "execution_count": null,
      "outputs": [
        {
          "output_type": "stream",
          "name": "stdout",
          "text": [
            "Recovery Agent Sentiment Scores: {'neg': 0.076, 'neu': 0.82, 'pos': 0.105, 'compound': 0.3256}\n",
            "Borrower Sentiment Scores: {'neg': 0.032, 'neu': 0.822, 'pos': 0.146, 'compound': 0.7691}\n"
          ]
        }
      ]
    }
  ]
}