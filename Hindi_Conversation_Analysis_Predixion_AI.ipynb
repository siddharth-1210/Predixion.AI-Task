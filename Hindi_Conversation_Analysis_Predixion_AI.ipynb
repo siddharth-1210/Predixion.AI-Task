{
  "nbformat": 4,
  "nbformat_minor": 0,
  "metadata": {
    "colab": {
      "provenance": []
    },
    "kernelspec": {
      "name": "python3",
      "display_name": "Python 3"
    },
    "language_info": {
      "name": "python"
    }
  },
  "cells": [
    {
      "cell_type": "markdown",
      "source": [
        "**Hindi Conversation Analysis Using Manual Summarization & Translation and Sentiment Analysis Using SentimentIntensityAnalyzer**\n",
        "\n",
        "\n",
        "Name : Siddharth Sonkavade\n",
        "\n"
      ],
      "metadata": {
        "id": "HDXJShppxIeo"
      }
    },
    {
      "cell_type": "markdown",
      "source": [
        "**Step : 1 - Importing Libraries**"
      ],
      "metadata": {
        "id": "dwMUWXUWvJHt"
      }
    },
    {
      "cell_type": "code",
      "execution_count": 16,
      "metadata": {
        "id": "9EmusObmoxO5"
      },
      "outputs": [],
      "source": [
        "import nltk\n",
        "from nltk.sentiment.vader import SentimentIntensityAnalyzer\n",
        "from fpdf import FPDF"
      ]
    },
    {
      "cell_type": "markdown",
      "source": [
        "**Step : 2 - Sample Conversation**"
      ],
      "metadata": {
        "id": "f0YYzs5Gvkbl"
      }
    },
    {
      "cell_type": "code",
      "source": [
        "conversation = \"\"\"\n",
        "RA: नमस्ते श्री कुमार, मैं एक्स वाई जेड फाइनेंस से बोल रहा हूं। आपके लोन के बारे में बात करनी थी।\n",
        "B: हां, बोलिए। क्या बात है?\n",
        "RA: सर, आपका पिछले महीने का EMI अभी तक नहीं आया है। क्या कोई समस्या है?\n",
        "B: हां, थोड़ी दिक्कत है। मेरी नौकरी चली गई है और मैं नया काम ढूंढ रहा हूं।\n",
        "RA: ओह, यह तो बुरा हुआ। लेकिन सर, आपको समझना होगा कि लोन का भुगतान समय पर करना बहुत जरूरी है।\n",
        "B: मैं समझता हूं, लेकिन अभी मेरे पास पैसे नहीं हैं। क्या कुछ समय मिल सकता है?\n",
        "RA: हम समझते हैं आपकी स्थिति। क्या आप अगले हफ्ते तक कुछ भुगतान कर सकते हैं?\n",
        "B: मैं कोशिश करूंगा, लेकिन पूरा EMI नहीं दे पाऊंगा। क्या आधा भुगतान चलेगा?\n",
        "RA: ठीक है, आधा भुगतान अगले हफ्ते तक कर दीजिए। बाकी का क्या प्लान है आपका?\n",
        "B: मुझे उम्मीद है कि अगले महीने तक मुझे नया काम मिल जाएगा। तब मैं बाकी बकाया चुका दूंगा।\n",
        "RA: ठीक है। तो हम ऐसा करते हैं - आप अगले हफ्ते तक आधा EMI जमा कर दीजिए, और अगले महीने के 15 तारीख तक बाकी का भुगतान कर दीजिए। क्या यह आपको स्वीकार है?\n",
        "B: हां, यह ठीक रहेगा। मैं इस प्लान का पालन करने की पूरी कोशिश करूंगा।\n",
        "RA: बहुत अच्छा। मैं आपको एक SMS भेज रहा हूं जिसमें भुगतान की डिटेल्स होंगी। कृपया इसका पालन करें और समय पर भुगतान करें।\n",
        "B: ठीक है, धन्यवाद आपके समझने के लिए।\n",
        "RA: आपका स्वागत है। अगर कोई और सवाल हो तो मुझे बताइएगा। अलविदा।\n",
        "B: अलविदा।\n",
        "\"\"\""
      ],
      "metadata": {
        "id": "rT2iHNxPuIrU"
      },
      "execution_count": 17,
      "outputs": []
    },
    {
      "cell_type": "markdown",
      "source": [
        "Step : 3 - Concise summary of the conversation"
      ],
      "metadata": {
        "id": "C_t68l2kwGTO"
      }
    },
    {
      "cell_type": "code",
      "source": [
        "summary = \"\"\"\n",
        "The recovery agent from XYZ Finance calls Mr. Kumar regarding his missed EMI payment. Mr. Kumar explains that he lost his job and is seeking new employment. They agree on a partial payment next week and the remaining amount by the 15th of the next month.\n",
        "\"\"\""
      ],
      "metadata": {
        "id": "mE-ItulTuO22"
      },
      "execution_count": 18,
      "outputs": []
    },
    {
      "cell_type": "markdown",
      "source": [
        "Step : 4 - Key actions or next steps identified from the conversation"
      ],
      "metadata": {
        "id": "AX9_uUBywUDJ"
      }
    },
    {
      "cell_type": "code",
      "source": [
        "key_actions = [\n",
        "    \"Mr. Kumar to make a partial EMI payment next week.\",\n",
        "    \"Mr. Kumar to pay the remaining EMI by the 15th of the next month.\",\n",
        "    \"Recovery agent to send payment details via SMS.\",\n",
        "    \"Mr. Kumar to follow the payment plan.\"\n",
        "]"
      ],
      "metadata": {
        "id": "E85M7jXLwEsc"
      },
      "execution_count": 19,
      "outputs": []
    },
    {
      "cell_type": "markdown",
      "source": [
        "Step : 5 - Performing Sentiment Analysis on Hindi Conversations Using NLTK"
      ],
      "metadata": {
        "id": "4Psw5DuVw4nw"
      }
    },
    {
      "cell_type": "code",
      "source": [
        "\n",
        "nltk.download('vader_lexicon')\n",
        "sid = SentimentIntensityAnalyzer()\n",
        "\n",
        "\n",
        "def analyze_sentiment(text):\n",
        "    return sid.polarity_scores(text)\n",
        "\n",
        "\n",
        "sentiments = {\n",
        "    \"Recovery Agent\": analyze_sentiment(\"नमस्ते श्री कुमार, मैं एक्स वाई जेड फाइनेंस से बोल रहा हूं। आपके लोन के बारे में बात करनी थी।\")[\"compound\"],\n",
        "    \"Borrower\": analyze_sentiment(\"हां, थोड़ी दिक्कत है। मेरी नौकरी चली गई है और मैं नया काम ढूंढ रहा हूं।\")[\"compound\"]\n",
        "}"
      ],
      "metadata": {
        "colab": {
          "base_uri": "https://localhost:8080/"
        },
        "id": "7X2GG5USuOv0",
        "outputId": "c05f0f51-e08d-4a34-cb26-aff5add616a0"
      },
      "execution_count": 20,
      "outputs": [
        {
          "output_type": "stream",
          "name": "stderr",
          "text": [
            "[nltk_data] Downloading package vader_lexicon to /root/nltk_data...\n",
            "[nltk_data]   Package vader_lexicon is already up-to-date!\n"
          ]
        }
      ]
    },
    {
      "cell_type": "markdown",
      "source": [
        "Step : 6 - Display the results"
      ],
      "metadata": {
        "id": "56Nc5EXuwkFb"
      }
    },
    {
      "cell_type": "code",
      "source": [
        "print(\"Summary:\")\n",
        "print(summary)\n",
        "print(\"\\nKey Actions:\")\n",
        "for action in key_actions:\n",
        "    print(f\"- {action}\")\n",
        "print(\"\\nSentiment Analysis:\")\n",
        "print(f\"Recovery Agent Sentiment: {'Positive' if sentiments['Recovery Agent'] > 0 else 'Negative' if sentiments['Recovery Agent'] < 0 else 'Neutral'}\")\n",
        "print(f\"Borrower Sentiment: {'Positive' if sentiments['Borrower'] > 0 else 'Negative' if sentiments['Borrower'] < 0 else 'Neutral'}\")\n"
      ],
      "metadata": {
        "colab": {
          "base_uri": "https://localhost:8080/"
        },
        "id": "ZPRdSgeruOpD",
        "outputId": "23f0fbcd-8c18-42fe-84d4-400ab0b61b86"
      },
      "execution_count": 21,
      "outputs": [
        {
          "output_type": "stream",
          "name": "stdout",
          "text": [
            "Summary:\n",
            "\n",
            "The recovery agent from XYZ Finance calls Mr. Kumar regarding his missed EMI payment. Mr. Kumar explains that he lost his job and is seeking new employment. They agree on a partial payment next week and the remaining amount by the 15th of the next month.\n",
            "\n",
            "\n",
            "Key Actions:\n",
            "- Mr. Kumar to make a partial EMI payment next week.\n",
            "- Mr. Kumar to pay the remaining EMI by the 15th of the next month.\n",
            "- Recovery agent to send payment details via SMS.\n",
            "- Mr. Kumar to follow the payment plan.\n",
            "\n",
            "Sentiment Analysis:\n",
            "Recovery Agent Sentiment: Neutral\n",
            "Borrower Sentiment: Neutral\n"
          ]
        }
      ]
    },
    {
      "cell_type": "markdown",
      "source": [
        "Step : 7 - Installing the fpdf Library"
      ],
      "metadata": {
        "id": "qbI3jwPfwtLu"
      }
    },
    {
      "cell_type": "code",
      "source": [
        "!pip install fpdf"
      ],
      "metadata": {
        "colab": {
          "base_uri": "https://localhost:8080/"
        },
        "id": "aP1fq7FXIvBi",
        "outputId": "5162048c-1333-4e08-cc71-9c6fd013ed33"
      },
      "execution_count": 22,
      "outputs": [
        {
          "output_type": "stream",
          "name": "stdout",
          "text": [
            "Requirement already satisfied: fpdf in /usr/local/lib/python3.10/dist-packages (1.7.2)\n"
          ]
        }
      ]
    },
    {
      "cell_type": "markdown",
      "source": [
        "Step : 8 - Generating a PDF Report for Sentiment Analysis in Python"
      ],
      "metadata": {
        "id": "kkeUq88mwyqP"
      }
    },
    {
      "cell_type": "code",
      "source": [
        "class PDF(FPDF):\n",
        "    def header(self):\n",
        "        self.set_font('Times', 'B', 12)\n",
        "        self.cell(0, 10, 'Predixion AI Engineer Assignment: Hindi Conversation Analysis', 0, 1, 'C')\n",
        "\n",
        "    def chapter_title(self, title):\n",
        "        self.set_font('Times', 'B', 12)\n",
        "        self.cell(0, 10, title, 0, 1, 'L')\n",
        "\n",
        "    def chapter_body(self, body):\n",
        "        self.set_font('Times', '', 12)\n",
        "        self.multi_cell(0, 10, body)\n",
        "\n",
        "\n",
        "summary = \"\"\"\n",
        "The recovery agent from XYZ Finance calls Mr. Kumar regarding his missed EMI payment. Mr. Kumar explains that he lost his job and is seeking new employment. They agree on a partial payment next week and the remaining amount by the 15th of the next month.\n",
        "\"\"\"\n",
        "\n",
        "key_actions = [\n",
        "    \"Mr. Kumar to make a partial EMI payment next week.\",\n",
        "    \"Mr. Kumar to pay the remaining EMI by the 15th of the next month.\",\n",
        "    \"Recovery agent to send payment details via SMS.\",\n",
        "    \"Mr. Kumar to follow the payment plan.\"\n",
        "]\n",
        "\n",
        "sentiment_analysis = \"\"\"\n",
        "Recovery Agent Sentiment: Neutral\n",
        "Borrower Sentiment: Neutral\n",
        "\"\"\"\n",
        "\n",
        "\n",
        "key_actions_str = \"\\n\".join(f\"- {action}\" for action in key_actions)\n",
        "\n",
        "pdf = PDF()\n",
        "\n",
        "pdf.add_page()\n",
        "\n",
        "pdf.chapter_title('Summary:')\n",
        "pdf.chapter_body(summary)\n",
        "\n",
        "pdf.chapter_title('Key Actions:')\n",
        "pdf.chapter_body(key_actions_str)\n",
        "\n",
        "pdf.chapter_title('Sentiment Analysis:')\n",
        "pdf.chapter_body(sentiment_analysis)\n",
        "\n",
        "pdf_output_path = \"AI_Engineer_Assignment_Report.pdf\"\n",
        "pdf.output(pdf_output_path)\n",
        "\n",
        "print(f\"Report generated: {pdf_output_path}\")\n"
      ],
      "metadata": {
        "colab": {
          "base_uri": "https://localhost:8080/"
        },
        "id": "3zwLPGneohtw",
        "outputId": "f3f176fa-6996-4429-da3e-cfe5cc17a8b5"
      },
      "execution_count": 23,
      "outputs": [
        {
          "output_type": "stream",
          "name": "stdout",
          "text": [
            "Report generated: AI_Engineer_Assignment_Report.pdf\n"
          ]
        }
      ]
    }
  ]
}